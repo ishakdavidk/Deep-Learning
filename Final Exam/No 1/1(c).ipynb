{
 "cells": [
  {
   "cell_type": "code",
   "execution_count": 114,
   "metadata": {},
   "outputs": [],
   "source": [
    "import warnings\n",
    "warnings.filterwarnings('ignore')\n",
    "import tensorflow as tf\n",
    "tf.compat.v1.disable_eager_execution()\n",
    "\n",
    "import numpy as np\n",
    "from numpy import linalg as LA\n",
    "\n",
    "from matplotlib import pyplot as plt\n",
    "\n",
    "from art.estimators.classification import KerasClassifier\n",
    "from art.attacks.evasion import FastGradientMethod, CarliniLInfMethod\n",
    "from art.attacks.evasion import ProjectedGradientDescent\n",
    "from art.utils import to_categorical"
   ]
  },
  {
   "cell_type": "code",
   "execution_count": 115,
   "metadata": {},
   "outputs": [],
   "source": [
    "if tf.__version__[0] != '2':\n",
    "    raise ImportError('This notebook requires Tensorflow v2.')"
   ]
  },
  {
   "cell_type": "code",
   "execution_count": 116,
   "metadata": {},
   "outputs": [],
   "source": [
    "(x_train, y_train), (x_test, y_test) = tf.keras.datasets.mnist.load_data()\n",
    "x_train, x_test = x_train / 255.0, x_test / 255.0\n",
    "\n",
    "x_test = x_test[0:100]\n",
    "y_test = y_test[0:100]"
   ]
  },
  {
   "cell_type": "markdown",
   "metadata": {},
   "source": [
    "# Train and evaluate a baseline classifier"
   ]
  },
  {
   "cell_type": "code",
   "execution_count": 117,
   "metadata": {},
   "outputs": [],
   "source": [
    "model = tf.keras.models.Sequential([\n",
    "    tf.keras.layers.InputLayer(input_shape=(28, 28)),\n",
    "    tf.keras.layers.Flatten(),\n",
    "    tf.keras.layers.Dense(128, activation='relu'),\n",
    "    tf.keras.layers.Dropout(0.2),\n",
    "    tf.keras.layers.Dense(10, activation='softmax')\n",
    "])\n",
    "\n",
    "model.compile(optimizer='adam',\n",
    "              loss='sparse_categorical_crossentropy',\n",
    "              metrics=['accuracy']);"
   ]
  },
  {
   "cell_type": "code",
   "execution_count": 118,
   "metadata": {},
   "outputs": [
    {
     "name": "stdout",
     "output_type": "stream",
     "text": [
      "Train on 60000 samples\n",
      "Epoch 1/3\n",
      "60000/60000 [==============================] - 3s 49us/sample - loss: 0.2946 - accuracy: 0.9136\n",
      "Epoch 2/3\n",
      "60000/60000 [==============================] - 3s 47us/sample - loss: 0.1409 - accuracy: 0.9586\n",
      "Epoch 3/3\n",
      "60000/60000 [==============================] - 3s 47us/sample - loss: 0.1072 - accuracy: 0.9675\n"
     ]
    }
   ],
   "source": [
    "model.fit(x_train, y_train, epochs=3);"
   ]
  },
  {
   "cell_type": "code",
   "execution_count": 119,
   "metadata": {},
   "outputs": [
    {
     "name": "stdout",
     "output_type": "stream",
     "text": [
      "100/100 [==============================] - 0s 419us/sample - loss: 0.0179 - accuracy: 1.0000\n",
      "Accuracy on test data: 100.00%\n"
     ]
    }
   ],
   "source": [
    "loss_test, accuracy_test = model.evaluate(x_test, y_test)\n",
    "print('Accuracy on test data: {:4.2f}%'.format(accuracy_test * 100))"
   ]
  },
  {
   "cell_type": "code",
   "execution_count": 120,
   "metadata": {},
   "outputs": [],
   "source": [
    "classifier = KerasClassifier(model=model, clip_values=(0, 1))"
   ]
  },
  {
   "cell_type": "markdown",
   "metadata": {},
   "source": [
    "# Untargeted adversarial attack"
   ]
  },
  {
   "cell_type": "code",
   "execution_count": 121,
   "metadata": {},
   "outputs": [],
   "source": [
    "# Create the attacker:\n",
    "adv = ProjectedGradientDescent(classifier, targeted=False, max_iter=10, eps_step=1, eps=5)\n",
    "\n",
    "# Generate the adversarial sample:\n",
    "x_art_adv = adv.generate(np.expand_dims(x_test[0],axis=0))"
   ]
  },
  {
   "cell_type": "code",
   "execution_count": 122,
   "metadata": {},
   "outputs": [
    {
     "name": "stdout",
     "output_type": "stream",
     "text": [
      "Classified as :  2\n"
     ]
    }
   ],
   "source": [
    "prediction = classifier.predict(x_art_adv)\n",
    "print(\"Classified as : \", np.argmax(prediction, axis=1)[0])"
   ]
  },
  {
   "cell_type": "markdown",
   "metadata": {},
   "source": [
    "#### Answer for 1(c) point i :"
   ]
  },
  {
   "cell_type": "code",
   "execution_count": 123,
   "metadata": {},
   "outputs": [
    {
     "data": {
      "image/png": "[encoded data removed]",
      "text/plain": [
       "<Figure size 504x360 with 1 Axes>"
      ]
     },
     "metadata": {
      "needs_background": "light"
     },
     "output_type": "display_data"
    }
   ],
   "source": [
    "cols   = 1\n",
    "images_art = list(x_art_adv[:cols])\n",
    "adv_image_art = images_art[0]\n",
    "\n",
    "fig    = plt.figure(figsize=(7, 5))\n",
    "\n",
    "fig.add_subplot(1,1,1)\n",
    "plt.title(\"Projected Gradient Descent (PGD) adversarial image\\n\")\n",
    "plt.imshow(adv_image_art, cmap='gray')\n",
    "plt.axis('off')\n",
    "\n",
    "plt.show()"
   ]
  },
  {
   "cell_type": "markdown",
   "metadata": {},
   "source": [
    "# Targeted adversarial attack"
   ]
  },
  {
   "cell_type": "code",
   "execution_count": 145,
   "metadata": {},
   "outputs": [],
   "source": [
    "target_label = 5"
   ]
  },
  {
   "cell_type": "code",
   "execution_count": 146,
   "metadata": {},
   "outputs": [],
   "source": [
    "# Set the configuration to a targeted attack:\n",
    "adv.set_params(targeted=True)\n",
    "\n",
    "x_art_adv_targeted = adv.generate(np.expand_dims(x_test[0],axis=0), y=to_categorical([target_label],10))"
   ]
  },
  {
   "cell_type": "code",
   "execution_count": 147,
   "metadata": {},
   "outputs": [
    {
     "name": "stdout",
     "output_type": "stream",
     "text": [
      "Classified as :  5\n"
     ]
    }
   ],
   "source": [
    "prediction = classifier.predict(x_art_adv_targeted)\n",
    "print(\"Classified as : \", np.argmax(prediction, axis=1)[0])"
   ]
  },
  {
   "cell_type": "markdown",
   "metadata": {},
   "source": [
    "#### Answer for 1(c) point i :"
   ]
  },
  {
   "cell_type": "code",
   "execution_count": 148,
   "metadata": {},
   "outputs": [
    {
     "data": {
      "image/png": "[encoded data removed]",
      "text/plain": [
       "<Figure size 504x360 with 1 Axes>"
      ]
     },
     "metadata": {
      "needs_background": "light"
     },
     "output_type": "display_data"
    }
   ],
   "source": [
    "cols   = 1\n",
    "images_art_targeted = list(x_art_adv_targeted[:cols])\n",
    "adv_image_art_targeted = images_art_targeted[0]\n",
    "\n",
    "fig    = plt.figure(figsize=(7, 5))\n",
    "\n",
    "fig.add_subplot(1,1,1)\n",
    "plt.title(\"Projected Gradient Descent (PGD) adversarial image\\n\")\n",
    "plt.imshow(adv_image_art_targeted, cmap='gray')\n",
    "plt.axis('off')\n",
    "\n",
    "plt.show()"
   ]
  },
  {
   "cell_type": "markdown",
   "metadata": {},
   "source": [
    "# Analysis"
   ]
  },
  {
   "cell_type": "markdown",
   "metadata": {},
   "source": [
    "#### Answer for 1(c) point ii :"
   ]
  },
  {
   "cell_type": "code",
   "execution_count": 149,
   "metadata": {},
   "outputs": [
    {
     "name": "stdout",
     "output_type": "stream",
     "text": [
      "Norms for untargeted attack :\n",
      "\n",
      "Frobenius norm (L0)    : 60.71%\n",
      "Frobenius norm (L2)    :  20.34381260395647\n",
      "Frobenius norm (L_inf) :  24.200000000000003\n"
     ]
    }
   ],
   "source": [
    "print(\"Norms for untargeted attack :\\n\")\n",
    "\n",
    "ext_cw = x_test[0] - adv_image_art \n",
    "\n",
    "L0_dist = (sum(sum(ext_cw != 0))) / np.size(ext_cw)\n",
    "print(\"Frobenius norm (L0)    : {:4.2f}%\".format(L0_dist * 100))\n",
    "\n",
    "L2_dist = LA.norm(ext_cw)\n",
    "print(\"Frobenius norm (L2)    : \", L2_dist)\n",
    "\n",
    "L_inf_dist = LA.norm(ext_cw, np.inf)\n",
    "print(\"Frobenius norm (L_inf) : \", L_inf_dist)"
   ]
  },
  {
   "cell_type": "code",
   "execution_count": 150,
   "metadata": {},
   "outputs": [
    {
     "name": "stdout",
     "output_type": "stream",
     "text": [
      "Norms for targeted attack :\n",
      "\n",
      "Frobenius norm (L0)    : 56.89%\n",
      "Frobenius norm (L2)    :  19.338373045559234\n",
      "Frobenius norm (L_inf) :  22.905882352941177\n"
     ]
    }
   ],
   "source": [
    "print(\"Norms for targeted attack :\\n\")\n",
    "\n",
    "ext_cw = x_test[0] - adv_image_art_targeted\n",
    "\n",
    "L0_dist = (sum(sum(ext_cw != 0))) / np.size(ext_cw)\n",
    "print(\"Frobenius norm (L0)    : {:4.2f}%\".format(L0_dist * 100))\n",
    "\n",
    "L2_dist = LA.norm(ext_cw)\n",
    "print(\"Frobenius norm (L2)    : \", L2_dist)\n",
    "\n",
    "L_inf_dist = LA.norm(ext_cw, np.inf)\n",
    "print(\"Frobenius norm (L_inf) : \", L_inf_dist)"
   ]
  },
  {
   "cell_type": "code",
   "execution_count": null,
   "metadata": {},
   "outputs": [],
   "source": []
  }
 ],
 "metadata": {
  "kernelspec": {
   "display_name": "Python [conda env:tensorflow_gpu]",
   "language": "python",
   "name": "conda-env-tensorflow_gpu-py"
  },
  "language_info": {
   "codemirror_mode": {
    "name": "ipython",
    "version": 3
   },
   "file_extension": ".py",
   "mimetype": "text/x-python",
   "name": "python",
   "nbconvert_exporter": "python",
   "pygments_lexer": "ipython3",
   "version": "3.7.7"
  }
 },
 "nbformat": 4,
 "nbformat_minor": 4
}
