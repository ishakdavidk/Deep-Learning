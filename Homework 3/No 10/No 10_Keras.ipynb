{
 "cells": [
  {
   "cell_type": "code",
   "execution_count": 4,
   "metadata": {},
   "outputs": [],
   "source": [
    "from __future__ import print_function\n",
    "\n",
    "import keras\n",
    "from keras.datasets import mnist\n",
    "from keras.models import Sequential\n",
    "from keras.layers import Dense, Dropout\n",
    "from keras.optimizers import RMSprop"
   ]
  },
  {
   "cell_type": "code",
   "execution_count": 5,
   "metadata": {},
   "outputs": [
    {
     "name": "stdout",
     "output_type": "stream",
     "text": [
      "60000 train samples\n",
      "10000 test samples\n"
     ]
    }
   ],
   "source": [
    "batch_size = 128\n",
    "num_classes = 10\n",
    "epochs = 20\n",
    "\n",
    "# the data, split between train and test sets\n",
    "(x_train, y_train), (x_test, y_test) = mnist.load_data()\n",
    "\n",
    "x_train = x_train.reshape(60000, 784)\n",
    "x_test = x_test.reshape(10000, 784)\n",
    "x_train = x_train.astype('float32')\n",
    "x_test = x_test.astype('float32')\n",
    "x_train /= 255\n",
    "x_test /= 255\n",
    "print(x_train.shape[0], 'train samples')\n",
    "print(x_test.shape[0], 'test samples')\n",
    "\n",
    "# convert class vectors to binary class matrices\n",
    "y_train = keras.utils.to_categorical(y_train, num_classes)\n",
    "y_test = keras.utils.to_categorical(y_test, num_classes)"
   ]
  },
  {
   "cell_type": "code",
   "execution_count": 6,
   "metadata": {},
   "outputs": [
    {
     "name": "stdout",
     "output_type": "stream",
     "text": [
      "_________________________________________________________________\n",
      "Layer (type)                 Output Shape              Param #   \n",
      "=================================================================\n",
      "dense_4 (Dense)              (None, 512)               401920    \n",
      "_________________________________________________________________\n",
      "dense_5 (Dense)              (None, 512)               262656    \n",
      "_________________________________________________________________\n",
      "dense_6 (Dense)              (None, 10)                5130      \n",
      "=================================================================\n",
      "Total params: 669,706\n",
      "Trainable params: 669,706\n",
      "Non-trainable params: 0\n",
      "_________________________________________________________________\n"
     ]
    }
   ],
   "source": [
    "model = Sequential()\n",
    "model.add(Dense(512, activation='relu', input_shape=(784,)))\n",
    "model.add(Dense(512, activation='relu'))\n",
    "model.add(Dense(num_classes, activation='softmax'))\n",
    "\n",
    "model.summary()"
   ]
  },
  {
   "cell_type": "code",
   "execution_count": 8,
   "metadata": {},
   "outputs": [
    {
     "name": "stdout",
     "output_type": "stream",
     "text": [
      "Train on 60000 samples, validate on 10000 samples\n",
      "Epoch 1/20\n",
      " - 15s - loss: 0.0083 - acc: 0.9974 - val_loss: 0.1047 - val_acc: 0.9824\n",
      "Epoch 2/20\n",
      " - 14s - loss: 0.0047 - acc: 0.9984 - val_loss: 0.0951 - val_acc: 0.9841\n",
      "Epoch 3/20\n",
      " - 15s - loss: 0.0051 - acc: 0.9983 - val_loss: 0.1153 - val_acc: 0.9825\n",
      "Epoch 4/20\n",
      " - 15s - loss: 0.0117 - acc: 0.9968 - val_loss: 0.1055 - val_acc: 0.9803\n",
      "Epoch 5/20\n",
      " - 15s - loss: 0.0079 - acc: 0.9977 - val_loss: 0.1020 - val_acc: 0.9822\n",
      "Epoch 6/20\n",
      " - 14s - loss: 0.0055 - acc: 0.9980 - val_loss: 0.1078 - val_acc: 0.9800\n",
      "Epoch 7/20\n",
      " - 14s - loss: 0.0029 - acc: 0.9990 - val_loss: 0.1054 - val_acc: 0.9825\n",
      "Epoch 8/20\n",
      " - 16s - loss: 0.0053 - acc: 0.9985 - val_loss: 0.1333 - val_acc: 0.9795\n",
      "Epoch 9/20\n",
      " - 15s - loss: 0.0120 - acc: 0.9965 - val_loss: 0.1209 - val_acc: 0.9798\n",
      "Epoch 10/20\n",
      " - 16s - loss: 0.0033 - acc: 0.9990 - val_loss: 0.0957 - val_acc: 0.9834\n",
      "Epoch 11/20\n",
      " - 18s - loss: 0.0024 - acc: 0.9994 - val_loss: 0.0916 - val_acc: 0.9838\n",
      "Epoch 12/20\n",
      " - 15s - loss: 0.0045 - acc: 0.9987 - val_loss: 0.1004 - val_acc: 0.9835\n",
      "Epoch 13/20\n",
      " - 18s - loss: 0.0063 - acc: 0.9984 - val_loss: 0.1028 - val_acc: 0.9831\n",
      "Epoch 14/20\n",
      " - 14s - loss: 0.0048 - acc: 0.9984 - val_loss: 0.1141 - val_acc: 0.9822\n",
      "Epoch 15/20\n",
      " - 14s - loss: 0.0097 - acc: 0.9973 - val_loss: 0.1076 - val_acc: 0.9830\n",
      "Epoch 16/20\n",
      " - 15s - loss: 0.0025 - acc: 0.9992 - val_loss: 0.1024 - val_acc: 0.9847\n",
      "Epoch 17/20\n",
      " - 15s - loss: 0.0034 - acc: 0.9989 - val_loss: 0.1159 - val_acc: 0.9809\n",
      "Epoch 18/20\n",
      " - 15s - loss: 0.0072 - acc: 0.9979 - val_loss: 0.1159 - val_acc: 0.9813\n",
      "Epoch 19/20\n",
      " - 14s - loss: 0.0062 - acc: 0.9983 - val_loss: 0.1054 - val_acc: 0.9835\n",
      "Epoch 20/20\n",
      " - 15s - loss: 0.0055 - acc: 0.9984 - val_loss: 0.1105 - val_acc: 0.9837\n",
      "\n",
      "\n",
      "Test loss: 0.11046630860159194\n",
      "Test accuracy: 0.9837\n"
     ]
    }
   ],
   "source": [
    "model.compile(loss='categorical_crossentropy',\n",
    "              optimizer='adam',\n",
    "              metrics=['accuracy'])\n",
    "\n",
    "history = model.fit(x_train, y_train,\n",
    "                    batch_size=batch_size,\n",
    "                    epochs=epochs,\n",
    "                    verbose=2,\n",
    "                    validation_data=(x_test, y_test))\n",
    "score = model.evaluate(x_test, y_test, verbose=0)\n",
    "\n",
    "print('\\n')\n",
    "print('Test loss:', score[0])\n",
    "print('Test accuracy:', score[1])"
   ]
  },
  {
   "cell_type": "code",
   "execution_count": null,
   "metadata": {},
   "outputs": [],
   "source": []
  }
 ],
 "metadata": {
  "kernelspec": {
   "display_name": "Python 3",
   "language": "python",
   "name": "python3"
  },
  "language_info": {
   "codemirror_mode": {
    "name": "ipython",
    "version": 3
   },
   "file_extension": ".py",
   "mimetype": "text/x-python",
   "name": "python",
   "nbconvert_exporter": "python",
   "pygments_lexer": "ipython3",
   "version": "3.7.4"
  }
 },
 "nbformat": 4,
 "nbformat_minor": 2
}
