{
 "cells": [
  {
   "cell_type": "code",
   "execution_count": 17,
   "metadata": {},
   "outputs": [],
   "source": [
    "import math  \n",
    "import numpy as np\n",
    "\n",
    "data = np.array([[1692,1978,1884,2151,2519],\n",
    "                [68,102,110,112,154]\n",
    "                ])\n",
    "\n",
    "def Average(lst): \n",
    "    return sum(lst) / len(lst)\n",
    "\n",
    "def std(lst, avg):\n",
    "    result = 0\n",
    "    for i in range(0, len(lst)):\n",
    "        result = result + math.pow((lst[i]-avg), 2)\n",
    "    result = result / (len(lst)-1)\n",
    "    result = math.sqrt(result)\n",
    "    return result"
   ]
  },
  {
   "cell_type": "code",
   "execution_count": 18,
   "metadata": {},
   "outputs": [
    {
     "name": "stdout",
     "output_type": "stream",
     "text": [
      "S&P 500 mean : 2044.8\n",
      "ABC Corp. mean : 109.2\n"
     ]
    }
   ],
   "source": [
    "n = len(data)\n",
    "avg = np.arange(n, dtype=np.float32)\n",
    "\n",
    "for i in range(0, n):  \n",
    "    avg[i] = Average(data[i])\n",
    "    i+=1\n",
    "    \n",
    "print('S&P 500 mean : ' + str(avg[0]))\n",
    "print('ABC Corp. mean : ' + str(avg[1]))"
   ]
  },
  {
   "cell_type": "code",
   "execution_count": 19,
   "metadata": {},
   "outputs": [
    {
     "name": "stdout",
     "output_type": "stream",
     "text": [
      "\u001b[1mCovariance Matrix : \n",
      "\u001b[0m\n",
      "[[97732.7  9107.3]\n",
      " [ 9107.3   941.2]]\n"
     ]
    }
   ],
   "source": [
    "m = len(data[0])\n",
    "\n",
    "cov = (np.dot((data.transpose() - avg).transpose(), (data.transpose() - avg))) * (1/(m-1)) \n",
    "\n",
    "print('\\033[1m' + 'Covariance Matrix : ')\n",
    "print('\\033[0m')\n",
    "print(cov)"
   ]
  },
  {
   "cell_type": "code",
   "execution_count": 20,
   "metadata": {},
   "outputs": [
    {
     "name": "stdout",
     "output_type": "stream",
     "text": [
      "S&P 500 std : 312.62228\n",
      "ABC Corp. std : 30.678984\n"
     ]
    }
   ],
   "source": [
    "stdev = np.arange(n, dtype=np.float32)\n",
    "\n",
    "for i in range(0, n):  \n",
    "    stdev[i] = std(data[i], avg[i])\n",
    "    i+=1\n",
    "\n",
    "print('S&P 500 std : ' + str(stdev[0]))\n",
    "print('ABC Corp. std : ' + str(stdev[1]))"
   ]
  },
  {
   "cell_type": "code",
   "execution_count": 21,
   "metadata": {},
   "outputs": [
    {
     "name": "stdout",
     "output_type": "stream",
     "text": [
      "\u001b[1mCorrelation Matrix : \n",
      "\u001b[0m\n",
      "[[1.00000005 0.94957388]\n",
      " [0.94957388 0.99999999]]\n"
     ]
    }
   ],
   "source": [
    "cov_len = len(cov)\n",
    "\n",
    "corr = np.zeros(shape=(cov_len,cov_len))\n",
    "\n",
    "for i_m in range(0, cov_len):\n",
    "    for i_n in range(0, cov_len):\n",
    "        corr[i_m][i_n] = cov[i_m][i_n] / (stdev[i_m] * stdev[i_n])\n",
    "        \n",
    "print('\\033[1m' + 'Correlation Matrix : ')\n",
    "print('\\033[0m')\n",
    "print(corr)"
   ]
  },
  {
   "cell_type": "code",
   "execution_count": null,
   "metadata": {},
   "outputs": [],
   "source": []
  }
 ],
 "metadata": {
  "kernelspec": {
   "display_name": "Python 3",
   "language": "python",
   "name": "python3"
  },
  "language_info": {
   "codemirror_mode": {
    "name": "ipython",
    "version": 3
   },
   "file_extension": ".py",
   "mimetype": "text/x-python",
   "name": "python",
   "nbconvert_exporter": "python",
   "pygments_lexer": "ipython3",
   "version": "3.7.4"
  }
 },
 "nbformat": 4,
 "nbformat_minor": 2
}
