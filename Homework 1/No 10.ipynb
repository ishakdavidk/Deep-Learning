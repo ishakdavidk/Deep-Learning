{
 "cells": [
  {
   "cell_type": "code",
   "execution_count": 137,
   "metadata": {},
   "outputs": [],
   "source": [
    "import math  \n",
    "import numpy as np\n",
    "\n",
    "data = np.array([[170,165,174,169,155,172,166,168],\n",
    "                [60,55,75,67,49,63,58,61],\n",
    "                [4.1,3.0,2.8,2.9,3.1,3.6,3.7,4.0]\n",
    "                ])\n",
    "\n",
    "def Average(lst): \n",
    "    return sum(lst) / len(lst)\n",
    "\n",
    "def std(lst, avg):\n",
    "    result = 0\n",
    "    for i in range(0, len(lst)):\n",
    "        result = result + math.pow((lst[i]-avg), 2)\n",
    "    result = result / (len(lst)-1)\n",
    "    result = math.sqrt(result)\n",
    "    return result"
   ]
  },
  {
   "cell_type": "code",
   "execution_count": 138,
   "metadata": {},
   "outputs": [
    {
     "name": "stdout",
     "output_type": "stream",
     "text": [
      "Height mean : 167.375\n",
      "Weight mean : 61.0\n",
      "Grade mean : 3.4\n"
     ]
    }
   ],
   "source": [
    "n = len(data)\n",
    "avg = np.arange(n, dtype=np.float32)\n",
    "\n",
    "for i in range(0, n):  \n",
    "    avg[i] = Average(data[i])\n",
    "    i+=1\n",
    "    \n",
    "print('Height mean : ' + str(avg[0]))\n",
    "print('Weight mean : ' + str(avg[1]))\n",
    "print('Grade mean : ' + str(avg[2]))"
   ]
  },
  {
   "cell_type": "code",
   "execution_count": 139,
   "metadata": {},
   "outputs": [
    {
     "name": "stdout",
     "output_type": "stream",
     "text": [
      "\u001b[1mCovariance Matrix : \n",
      "\u001b[0m\n",
      "[[33.69642857 39.42857143  0.37142857]\n",
      " [39.42857143 60.85714286 -0.94285714]\n",
      " [ 0.37142857 -0.94285714  0.26285714]]\n"
     ]
    }
   ],
   "source": [
    "m = len(data[0])\n",
    "\n",
    "cov = (np.dot((data.transpose() - avg).transpose(), (data.transpose() - avg))) * (1/(m-1)) \n",
    "\n",
    "print('\\033[1m' + 'Covariance Matrix : ')\n",
    "print('\\033[0m')\n",
    "print(cov)"
   ]
  },
  {
   "cell_type": "code",
   "execution_count": 140,
   "metadata": {},
   "outputs": [
    {
     "name": "stdout",
     "output_type": "stream",
     "text": [
      "Height std : 5.8048625\n",
      "Weight std : 7.801099\n",
      "Grade std : 0.51269597\n"
     ]
    }
   ],
   "source": [
    "stdev = np.arange(n, dtype=np.float32)\n",
    "\n",
    "for i in range(0, n):  \n",
    "    stdev[i] = std(data[i], avg[i])\n",
    "    i+=1\n",
    "\n",
    "print('Height std : ' + str(stdev[0]))\n",
    "print('Weight std : ' + str(stdev[1]))\n",
    "print('Grade std : ' + str(stdev[2]))"
   ]
  },
  {
   "cell_type": "code",
   "execution_count": 141,
   "metadata": {},
   "outputs": [
    {
     "name": "stdout",
     "output_type": "stream",
     "text": [
      "\u001b[1mCorrelation Matrix : \n",
      "\u001b[0m\n",
      "[[ 0.99999995  0.87068955  0.12480256]\n",
      " [ 0.87068955  0.99999999 -0.23573834]\n",
      " [ 0.12480256 -0.23573834  0.9999999 ]]\n"
     ]
    }
   ],
   "source": [
    "cov_len = len(cov)\n",
    "\n",
    "corr = np.zeros(shape=(cov_len,cov_len))\n",
    "\n",
    "for i_m in range(0, cov_len):\n",
    "    for i_n in range(0, cov_len):\n",
    "        corr[i_m][i_n] = cov[i_m][i_n] / (stdev[i_m] * stdev[i_n])\n",
    "        \n",
    "print('\\033[1m' + 'Correlation Matrix : ')\n",
    "print('\\033[0m')\n",
    "print(corr)"
   ]
  },
  {
   "cell_type": "code",
   "execution_count": null,
   "metadata": {},
   "outputs": [],
   "source": []
  }
 ],
 "metadata": {
  "kernelspec": {
   "display_name": "Python 3",
   "language": "python",
   "name": "python3"
  },
  "language_info": {
   "codemirror_mode": {
    "name": "ipython",
    "version": 3
   },
   "file_extension": ".py",
   "mimetype": "text/x-python",
   "name": "python",
   "nbconvert_exporter": "python",
   "pygments_lexer": "ipython3",
   "version": "3.7.4"
  }
 },
 "nbformat": 4,
 "nbformat_minor": 2
}
