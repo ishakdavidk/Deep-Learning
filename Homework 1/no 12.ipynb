{
 "cells": [
  {
   "cell_type": "code",
   "execution_count": 22,
   "metadata": {},
   "outputs": [],
   "source": [
    "import math  \n",
    "import numpy as np\n",
    "\n",
    "data = np.array([[1,-2,3,0,3],\n",
    "                [3,2,4,6,0]\n",
    "                ])\n",
    "\n",
    "def Average(lst): \n",
    "    return sum(lst) / len(lst)\n",
    "\n",
    "def std(lst, avg):\n",
    "    result = 0\n",
    "    for i in range(0, len(lst)):\n",
    "        result = result + math.pow((lst[i]-avg), 2)\n",
    "    result = result / (len(lst)-1)\n",
    "    result = math.sqrt(result)\n",
    "    return result"
   ]
  },
  {
   "cell_type": "code",
   "execution_count": 23,
   "metadata": {},
   "outputs": [
    {
     "name": "stdout",
     "output_type": "stream",
     "text": [
      "Excelsior Corp. Annual Return (percent) mean : 1.0\n",
      "Adirondack Corp. Annual Return (percent) mean : 3.0\n"
     ]
    }
   ],
   "source": [
    "n = len(data)\n",
    "avg = np.arange(n, dtype=np.float32)\n",
    "\n",
    "for i in range(0, n):  \n",
    "    avg[i] = Average(data[i])\n",
    "    i+=1\n",
    "    \n",
    "print('Excelsior Corp. Annual Return (percent) mean : ' + str(avg[0]))\n",
    "print('Adirondack Corp. Annual Return (percent) mean : ' + str(avg[1]))"
   ]
  },
  {
   "cell_type": "code",
   "execution_count": 24,
   "metadata": {},
   "outputs": [
    {
     "name": "stdout",
     "output_type": "stream",
     "text": [
      "\u001b[1mCovariance Matrix : \n",
      "\u001b[0m\n",
      "[[ 4.5 -1. ]\n",
      " [-1.   5. ]]\n"
     ]
    }
   ],
   "source": [
    "m = len(data[0])\n",
    "\n",
    "cov = (np.dot((data.transpose() - avg).transpose(), (data.transpose() - avg))) * (1/(m-1)) \n",
    "\n",
    "print('\\033[1m' + 'Covariance Matrix : ')\n",
    "print('\\033[0m')\n",
    "print(cov)"
   ]
  },
  {
   "cell_type": "code",
   "execution_count": 25,
   "metadata": {},
   "outputs": [
    {
     "name": "stdout",
     "output_type": "stream",
     "text": [
      "Excelsior Corp. Annual Return (percent) std : 2.1213202\n",
      "Adirondack Corp. Annual Return (percent) std : 2.236068\n"
     ]
    }
   ],
   "source": [
    "stdev = np.arange(n, dtype=np.float32)\n",
    "\n",
    "for i in range(0, n):  \n",
    "    stdev[i] = std(data[i], avg[i])\n",
    "    i+=1\n",
    "\n",
    "print('Excelsior Corp. Annual Return (percent) std : ' + str(stdev[0]))\n",
    "print('Adirondack Corp. Annual Return (percent) std : ' + str(stdev[1]))"
   ]
  },
  {
   "cell_type": "code",
   "execution_count": 26,
   "metadata": {},
   "outputs": [
    {
     "name": "stdout",
     "output_type": "stream",
     "text": [
      "\u001b[1mCorrelation Matrix : \n",
      "\u001b[0m\n",
      "[[ 1.00000011 -0.21081852]\n",
      " [-0.21081852  1.        ]]\n"
     ]
    }
   ],
   "source": [
    "cov_len = len(cov)\n",
    "\n",
    "corr = np.zeros(shape=(cov_len,cov_len))\n",
    "\n",
    "for i_m in range(0, cov_len):\n",
    "    for i_n in range(0, cov_len):\n",
    "        corr[i_m][i_n] = cov[i_m][i_n] / (stdev[i_m] * stdev[i_n])\n",
    "        \n",
    "print('\\033[1m' + 'Correlation Matrix : ')\n",
    "print('\\033[0m')\n",
    "print(corr)"
   ]
  },
  {
   "cell_type": "code",
   "execution_count": null,
   "metadata": {},
   "outputs": [],
   "source": []
  }
 ],
 "metadata": {
  "kernelspec": {
   "display_name": "Python 3",
   "language": "python",
   "name": "python3"
  },
  "language_info": {
   "codemirror_mode": {
    "name": "ipython",
    "version": 3
   },
   "file_extension": ".py",
   "mimetype": "text/x-python",
   "name": "python",
   "nbconvert_exporter": "python",
   "pygments_lexer": "ipython3",
   "version": "3.7.4"
  }
 },
 "nbformat": 4,
 "nbformat_minor": 2
}
