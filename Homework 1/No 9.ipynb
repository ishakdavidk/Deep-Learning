{
 "cells": [
  {
   "cell_type": "code",
   "execution_count": 114,
   "metadata": {},
   "outputs": [],
   "source": [
    "import numpy as np\n",
    "\n",
    "def coin_toss(p):     \n",
    "    result = np.random.binomial(1,p) \n",
    "    if result == 0:\n",
    "        experiment = 'T'\n",
    "    else :\n",
    "        experiment = 'H'\n",
    "    return experiment\n",
    "\n",
    "\n",
    "def position_experiments(): \n",
    "    p=0.5\n",
    "    n=100       # number of tosses in one experiment\n",
    "    full_experiments = []\n",
    "\n",
    "    for i in range(0, n):    \n",
    "        full_experiments.append(coin_toss(p))\n",
    "        i+=1\n",
    "    \n",
    "    #print(full_experiments)\n",
    "    \n",
    "    htt, hth = 0,0\n",
    "    \n",
    "    for i in range(0, len(full_experiments)-3):\n",
    "        if full_experiments[i] == 'H' and full_experiments[i+1] == 'T' and full_experiments[i+2] == 'T' and htt == 0:\n",
    "            htt = i+1\n",
    "        elif full_experiments[i] == 'H' and full_experiments[i+1] == 'T' and full_experiments[i+2] == 'H' and hth == 0:\n",
    "            hth = i+1\n",
    "        \n",
    "        if htt != 0 and hth != 0 :\n",
    "            break\n",
    "        i+=1\n",
    "    \n",
    "    #print('HTT' + str(htt))\n",
    "    #print('HTH' + str(hth))\n",
    "    return [htt, hth]\n",
    "\n",
    "\n",
    "def Average(lst): \n",
    "    return sum(lst) / len(lst)"
   ]
  },
  {
   "cell_type": "code",
   "execution_count": 117,
   "metadata": {},
   "outputs": [
    {
     "name": "stdout",
     "output_type": "stream",
     "text": [
      "The list of numbers of tosses until HTT :\n",
      "[6, 14, 1, 10, 5, 9, 4, 3, 10, 14, 4, 10, 4, 2, 2, 5, 14, 1, 4, 7, 4, 9, 15, 4, 2, 5, 9, 5, 11, 16, 20, 2, 3, 4, 2, 5, 1, 17, 6, 6, 10, 4, 2, 2, 6, 16, 12, 12, 1, 7, 7, 2, 6, 3, 4, 1, 4, 3, 8, 12, 10, 7, 11, 4, 5, 4, 1, 11, 1, 4, 1, 6, 1, 5, 10, 6, 5, 4, 2, 2, 1, 6, 2, 3, 4, 15, 1, 6, 12, 5, 9, 10, 2, 6, 3, 1, 10, 2, 2, 3, 2, 1, 7, 6, 7, 6, 4, 2, 3, 3, 2, 7, 5, 5, 5, 5, 4, 10, 2, 5, 1, 7, 3, 11, 2, 1, 6, 5, 3, 9, 4, 10, 4, 1, 5, 3, 2, 1, 5, 1, 1, 8, 5, 7, 9, 6, 16, 7, 21, 9, 1, 5, 4, 14, 7, 1, 1, 11, 2, 3, 3, 6, 3, 12, 4, 4, 2, 2, 9, 7, 11, 2, 15, 8, 2, 4, 4, 2, 2, 10, 3, 4, 2, 4, 3, 8, 11, 9, 5, 5, 17, 5, 4, 19, 2, 5, 11, 8, 12, 14, 9, 2, 10, 2, 5, 14, 3, 5, 3, 7, 5, 1, 3, 10, 18, 5, 2, 2, 7, 17, 2, 4, 11, 2, 5, 3, 5, 3, 14, 6, 12, 1, 2, 3, 7, 2, 6, 1, 3, 4, 5, 2, 17, 3, 6, 2, 5, 3, 5, 10, 4, 1, 2, 7, 2, 7, 10, 5, 1, 1, 9, 12, 7, 2, 2, 6, 5, 14, 4, 9, 4, 2, 6, 18, 16, 7, 3, 2, 4, 3, 2, 3, 11, 2, 10, 8, 2, 3, 6, 4, 3, 3, 7, 1, 15, 7, 1, 3, 9, 3, 4, 3, 5, 1, 6, 1, 1, 1, 10, 4, 8, 11, 3, 3, 3, 15, 8, 2, 3, 4, 5, 2, 4, 10, 9, 4, 4, 3, 2, 1, 22, 3, 5, 1, 1, 3, 13, 10, 2, 6, 8, 12, 2, 17, 11, 5, 6, 10, 3, 1, 7, 3, 2, 6, 9, 2, 2, 2, 5, 2, 1, 4, 8, 2, 1, 11, 3, 5, 1, 5, 5, 11, 5, 4, 3, 11, 3, 2, 7, 8, 5, 2, 1, 9, 2, 11, 4, 11, 2, 9, 17, 8, 2, 5, 7, 5, 9, 3, 2, 11, 7, 2, 10, 1, 2, 1, 4, 7, 32, 17, 5, 10, 15, 3, 1, 1, 1, 1, 24, 1, 9, 19, 9, 2, 12, 8, 2, 5, 9, 7, 3, 2, 6, 4, 8, 6, 3, 3, 5, 3, 6, 6, 8, 1, 3, 4, 2, 5, 7, 3, 8, 13, 8, 19, 5, 3, 1, 2, 2, 2, 2, 4, 4, 9, 7, 3, 12, 22, 6, 1, 3, 6, 6, 4, 5, 4, 2, 6, 1, 9, 9, 8, 23, 10, 2, 8, 8, 6, 13, 7, 1, 5, 9, 8, 2, 7, 7, 4, 4, 3, 3, 1, 1, 5, 9, 3, 9, 17, 3, 11, 10, 6, 8, 9, 17, 2, 2, 15, 3, 3, 3, 2, 4, 2, 2, 5, 6, 5, 3, 12, 3, 7, 9, 3, 2, 3, 10, 4, 3, 18, 16, 10, 9, 1, 3, 15, 3, 3, 15, 1, 5, 12, 8, 17, 2, 9, 7, 1, 2, 6, 14, 13, 4, 20, 15, 1, 2, 3, 11, 1, 4, 6, 3, 4, 2, 1, 5, 2, 1, 3, 13, 6, 1, 6, 1, 17, 1, 5, 14, 5, 4, 4, 2, 3, 6, 1, 8, 2, 7, 3, 2, 2, 5, 9, 4, 5, 2, 5, 4, 1, 1, 3, 6, 9, 33, 20, 3, 5, 11, 4, 7, 4, 6, 4, 4, 2, 6, 1, 9, 5, 1, 6, 2, 5, 1, 1, 10, 3, 1, 3, 8, 20, 6, 2, 5, 2, 5, 4, 1, 5, 5, 1, 1, 25, 5, 1, 2, 8, 4, 2, 7, 5, 3, 5, 4, 3, 1, 4, 13, 1, 2, 19, 25, 8, 1, 4, 4, 5, 1, 25, 1, 3, 4, 9, 3, 6, 10, 3, 10, 6, 19, 7, 3, 4, 4, 1, 5, 4, 2, 10, 4, 13, 2, 4, 2, 1, 2, 6, 2, 3, 1, 4, 4, 4, 4, 2, 2, 9, 12, 22, 3, 9, 6, 1, 1, 3, 2, 3, 9, 10, 3, 10, 8, 6, 6, 8, 5, 16, 3, 8, 8, 6, 3, 8, 3, 12, 10, 3, 8, 12, 3, 4, 6, 3, 14, 16, 7, 6, 1, 1, 8, 1, 8, 14, 8, 4, 3, 10, 7, 7, 2, 1, 2, 3, 3, 2, 13, 2, 1, 3, 2, 9, 3, 3, 8, 7, 6, 3, 2, 4, 4, 3, 4, 1, 7, 7, 14, 5, 7, 7, 4, 2, 3, 14, 6, 3, 6, 4, 2, 9, 3, 16, 1, 1, 9, 2, 2, 2, 2, 6, 8, 2, 11, 9, 5, 5, 2, 7, 2, 12, 3, 8, 10, 3, 4, 5, 16, 10, 23, 4, 19, 3, 10, 7, 5, 10, 3, 13, 8, 4, 2, 1, 4, 1, 9, 6, 1, 6, 1, 1, 2, 9, 7, 8, 16, 2, 1, 2, 3, 2, 2, 7, 5, 4, 2, 13, 5, 2, 3, 19, 4, 21, 2, 1, 13, 19, 2, 9, 12, 10, 1, 3, 3, 4, 6, 6, 6, 11, 10, 13, 16, 7, 17, 7, 9, 5, 1, 10, 3, 10, 3, 3, 8, 6, 1, 4, 4, 7, 1, 3, 12, 1, 5, 3, 3, 16, 1, 8, 8, 2, 4, 14, 12, 2, 1, 11, 1, 1, 1, 1, 9, 2, 1, 10, 3, 8, 14, 2, 4, 19, 5, 4, 3, 4, 3, 4, 6, 8, 2, 2, 3, 6, 7, 14, 10, 3, 41, 3, 6, 5, 5, 7, 16, 2, 1, 3, 6, 8, 9, 5, 1, 7, 2, 4, 3, 1, 5, 1, 7, 9, 6, 5, 3, 3, 1, 3, 2, 5, 2, 1]\n",
      "\n",
      "The list of numbers of tosses until HTH :\n",
      "[3, 2, 4, 6, 3, 7, 17, 32, 2, 3, 10, 23, 1, 8, 5, 20, 6, 9, 7, 5, 22, 2, 2, 9, 13, 21, 4, 13, 4, 4, 6, 14, 20, 18, 6, 1, 5, 3, 2, 4, 2, 45, 10, 13, 9, 2, 3, 2, 7, 3, 1, 15, 1, 1, 2, 34, 2, 12, 5, 1, 1, 5, 1, 2, 12, 2, 15, 7, 16, 1, 30, 2, 17, 3, 4, 1, 3, 7, 8, 18, 8, 2, 13, 8, 2, 3, 5, 2, 6, 3, 13, 4, 13, 24, 1, 13, 7, 11, 6, 1, 15, 24, 3, 3, 2, 1, 2, 6, 1, 25, 5, 11, 3, 19, 2, 3, 2, 1, 21, 3, 7, 5, 16, 2, 13, 6, 35, 3, 9, 3, 2, 2, 1, 7, 1, 25, 5, 7, 2, 5, 6, 4, 2, 3, 1, 1, 9, 5, 4, 2, 6, 3, 2, 6, 2, 8, 6, 1, 8, 7, 14, 4, 1, 1, 22, 12, 11, 5, 4, 4, 1, 55, 8, 1, 11, 8, 8, 28, 5, 4, 23, 9, 8, 8, 14, 2, 2, 3, 17, 22, 3, 13, 8, 6, 7, 1, 3, 3, 2, 4, 7, 16, 7, 6, 1, 6, 7, 10, 12, 3, 14, 12, 1, 7, 5, 14, 6, 18, 21, 26, 9, 2, 4, 5, 1, 14, 8, 8, 5, 1, 1, 21, 10, 7, 2, 11, 1, 5, 7, 1, 14, 9, 4, 18, 11, 12, 12, 7, 3, 2, 2, 6, 7, 20, 14, 2, 3, 14, 9, 15, 7, 3, 3, 38, 23, 3, 3, 4, 2, 3, 2, 5, 3, 6, 3, 5, 16, 12, 21, 13, 8, 17, 8, 11, 6, 3, 6, 29, 2, 7, 14, 6, 10, 8, 7, 1, 7, 1, 22, 10, 9, 25, 9, 10, 11, 12, 9, 7, 2, 14, 1, 7, 15, 12, 1, 3, 2, 18, 34, 10, 23, 6, 8, 5, 7, 20, 8, 1, 6, 4, 3, 1, 2, 5, 4, 6, 6, 6, 12, 11, 30, 2, 12, 5, 1, 1, 2, 4, 29, 18, 3, 6, 26, 1, 3, 8, 11, 7, 1, 6, 7, 8, 3, 5, 14, 5, 6, 13, 37, 15, 10, 4, 10, 21, 23, 2, 7, 35, 28, 22, 2, 8, 12, 3, 20, 3, 2, 6, 8, 4, 2, 1, 6, 3, 3, 1, 5, 1, 21, 4, 1, 22, 2, 8, 10, 10, 9, 4, 6, 2, 3, 4, 5, 6, 4, 8, 15, 12, 4, 7, 3, 3, 20, 12, 1, 11, 10, 19, 5, 3, 13, 5, 2, 7, 4, 4, 8, 10, 2, 6, 2, 4, 3, 16, 22, 2, 9, 11, 3, 25, 2, 5, 2, 3, 3, 1, 5, 15, 6, 10, 28, 16, 2, 1, 23, 9, 3, 1, 4, 18, 20, 16, 3, 12, 8, 2, 8, 3, 17, 1, 2, 1, 6, 5, 10, 24, 3, 20, 6, 1, 6, 2, 4, 3, 7, 13, 3, 10, 2, 8, 15, 12, 7, 11, 2, 11, 2, 4, 6, 4, 3, 2, 3, 2, 4, 6, 8, 2, 7, 6, 1, 15, 1, 12, 12, 2, 4, 1, 6, 5, 47, 1, 1, 1, 7, 1, 1, 12, 7, 3, 3, 2, 3, 5, 16, 3, 13, 8, 2, 23, 3, 3, 6, 2, 5, 4, 11, 18, 25, 1, 1, 1, 23, 1, 6, 18, 19, 9, 5, 54, 7, 2, 24, 10, 5, 16, 9, 6, 17, 18, 6, 2, 10, 1, 24, 8, 4, 1, 3, 12, 7, 2, 10, 10, 2, 7, 1, 5, 3, 7, 6, 11, 1, 3, 2, 12, 7, 1, 10, 4, 4, 11, 3, 3, 1, 2, 1, 1, 3, 8, 1, 2, 25, 9, 2, 22, 53, 11, 4, 2, 8, 4, 8, 2, 8, 4, 5, 6, 6, 14, 3, 3, 15, 13, 8, 7, 2, 1, 8, 1, 3, 19, 8, 5, 3, 12, 16, 1, 7, 7, 2, 3, 15, 3, 19, 8, 7, 9, 1, 6, 9, 1, 2, 1, 7, 14, 1, 9, 8, 7, 4, 1, 8, 6, 12, 4, 3, 8, 5, 4, 2, 4, 1, 8, 7, 17, 3, 2, 10, 6, 11, 3, 5, 7, 7, 9, 12, 3, 18, 10, 6, 8, 25, 2, 24, 6, 8, 3, 4, 2, 9, 1, 18, 4, 9, 10, 5, 1, 3, 4, 7, 2, 19, 2, 2, 3, 13, 9, 7, 3, 1, 4, 7, 23, 8, 5, 3, 9, 4, 2, 1, 9, 3, 18, 7, 6, 2, 4, 26, 4, 28, 4, 1, 3, 4, 2, 1, 4, 5, 2, 15, 10, 17, 10, 11, 17, 2, 8, 4, 6, 7, 1, 1, 7, 15, 15, 14, 8, 10, 7, 1, 9, 9, 8, 3, 3, 12, 15, 2, 3, 2, 36, 19, 2, 4, 6, 3, 2, 9, 1, 7, 1, 27, 7, 29, 8, 16, 5, 12, 4, 3, 14, 6, 12, 3, 9, 14, 1, 6, 4, 9, 3, 2, 1, 2, 3, 2, 3, 1, 8, 5, 1, 1, 5, 1, 4, 13, 5, 3, 2, 17, 12, 1, 14, 1, 2, 15, 1, 9, 6, 13, 6, 30, 6, 5, 6, 7, 19, 7, 18, 16, 5, 2, 10, 10, 3, 22, 5, 16, 9, 13, 5, 10, 11, 8, 3, 7, 15, 4, 2, 12, 25, 6, 15, 21, 2, 3, 3, 4, 3, 1, 1, 4, 2, 4, 2, 25, 3, 8, 7, 18, 6, 4, 4, 4, 2, 14, 1, 24, 7, 5, 23, 9, 1, 7, 1, 20, 2, 27, 5, 2, 9, 4, 5, 37, 8, 14, 21, 10, 11, 4, 25, 9, 4, 18, 1, 2, 5, 7, 4, 1, 23, 23, 7, 8, 16, 4, 3, 8, 12, 6, 10, 4, 5, 2, 13, 2, 6, 4, 2, 19, 21, 3, 14, 24, 1, 38, 13, 3, 10, 9, 15, 12, 8, 17, 4, 3, 6, 1, 4, 4, 3, 6, 6, 14, 6, 7, 3, 18, 8]\n",
      "\n",
      "The average number of tosses until HTT : 5.886\n",
      "The average number of tosses until HTH : 8.063\n"
     ]
    }
   ],
   "source": [
    "HTT_position = []\n",
    "HTH_position = []\n",
    "\n",
    "e=1000          # number of experiments\n",
    "for n in range(0, e): \n",
    "    list = position_experiments()\n",
    "    HTT_position.append(list[0])\n",
    "    HTH_position.append(list[1])\n",
    "\n",
    "print('The list of numbers of tosses until HTT :')\n",
    "print(HTT_position)\n",
    "print()\n",
    "print('The list of numbers of tosses until HTH :')\n",
    "print(HTH_position)\n",
    "\n",
    "avg_htt = Average(HTT_position) \n",
    "avg_hth = Average(HTH_position) \n",
    "\n",
    "print()\n",
    "print('The average number of tosses until HTT : ' + str(avg_htt))\n",
    "print('The average number of tosses until HTH : ' + str(avg_hth))"
   ]
  },
  {
   "cell_type": "code",
   "execution_count": 110,
   "metadata": {},
   "outputs": [
    {
     "name": "stdout",
     "output_type": "stream",
     "text": [
      "The average number of tosses until HTT : 5.946\n",
      "The average number of tosses until HTH : 8.118\n"
     ]
    }
   ],
   "source": [
    "HTT_position = []\n",
    "HTH_position = []\n",
    "\n",
    "e=1000          # number of experiments\n",
    "for n in range(0, e): \n",
    "    list = position_experiments()\n",
    "    HTT_position.append(list[0])\n",
    "    HTH_position.append(list[1])\n",
    "\n",
    "# print('The list of numbers of tosses until HTT :')\n",
    "# print(HTT_position)\n",
    "# print('The list of numbers of tosses until HTH :')\n",
    "# print(HTH_position)\n",
    "\n",
    "avg_htt = Average(HTT_position) \n",
    "avg_hth = Average(HTH_position) \n",
    "\n",
    "print('The average number of tosses until HTT : ' + str(avg_htt))\n",
    "print('The average number of tosses until HTH : ' + str(avg_hth))"
   ]
  },
  {
   "cell_type": "code",
   "execution_count": 111,
   "metadata": {},
   "outputs": [
    {
     "name": "stdout",
     "output_type": "stream",
     "text": [
      "The average number of tosses until HTT : 6.13\n",
      "The average number of tosses until HTH : 8.195\n"
     ]
    }
   ],
   "source": [
    "HTT_position = []\n",
    "HTH_position = []\n",
    "\n",
    "e=1000          # number of experiments\n",
    "for n in range(0, e): \n",
    "    list = position_experiments()\n",
    "    HTT_position.append(list[0])\n",
    "    HTH_position.append(list[1])\n",
    "\n",
    "# print('The list of numbers of tosses until HTT :')\n",
    "# print(HTT_position)\n",
    "# print('The list of numbers of tosses until HTH :')\n",
    "# print(HTH_position)\n",
    "\n",
    "avg_htt = Average(HTT_position) \n",
    "avg_hth = Average(HTH_position) \n",
    "\n",
    "print('The average number of tosses until HTT : ' + str(avg_htt))\n",
    "print('The average number of tosses until HTH : ' + str(avg_hth))"
   ]
  },
  {
   "cell_type": "code",
   "execution_count": 112,
   "metadata": {},
   "outputs": [
    {
     "name": "stdout",
     "output_type": "stream",
     "text": [
      "The average number of tosses until HTT : 6.098\n",
      "The average number of tosses until HTH : 7.869\n"
     ]
    }
   ],
   "source": [
    "HTT_position = []\n",
    "HTH_position = []\n",
    "\n",
    "e=1000          # number of experiments\n",
    "for n in range(0, e): \n",
    "    list = position_experiments()\n",
    "    HTT_position.append(list[0])\n",
    "    HTH_position.append(list[1])\n",
    "\n",
    "# print('The list of numbers of tosses until HTT :')\n",
    "# print(HTT_position)\n",
    "# print('The list of numbers of tosses until HTH :')\n",
    "# print(HTH_position)\n",
    "\n",
    "avg_htt = Average(HTT_position) \n",
    "avg_hth = Average(HTH_position) \n",
    "\n",
    "print('The average number of tosses until HTT : ' + str(avg_htt))\n",
    "print('The average number of tosses until HTH : ' + str(avg_hth))"
   ]
  },
  {
   "cell_type": "code",
   "execution_count": 113,
   "metadata": {},
   "outputs": [
    {
     "name": "stdout",
     "output_type": "stream",
     "text": [
      "The average number of tosses until HTT : 6.3\n",
      "The average number of tosses until HTH : 7.855\n"
     ]
    }
   ],
   "source": [
    "HTT_position = []\n",
    "HTH_position = []\n",
    "\n",
    "e=1000          # number of experiments\n",
    "for n in range(0, e): \n",
    "    list = position_experiments()\n",
    "    HTT_position.append(list[0])\n",
    "    HTH_position.append(list[1])\n",
    "\n",
    "# print('The list of numbers of tosses until HTT :')\n",
    "# print(HTT_position)\n",
    "# print('The list of numbers of tosses until HTH :')\n",
    "# print(HTH_position)\n",
    "\n",
    "avg_htt = Average(HTT_position) \n",
    "avg_hth = Average(HTH_position) \n",
    "\n",
    "print('The average number of tosses until HTT : ' + str(avg_htt))\n",
    "print('The average number of tosses until HTH : ' + str(avg_hth))"
   ]
  },
  {
   "cell_type": "code",
   "execution_count": 118,
   "metadata": {},
   "outputs": [
    {
     "name": "stdout",
     "output_type": "stream",
     "text": [
      "The average number of tosses until HTT : 6.046\n",
      "The average number of tosses until HTH : 8.035\n"
     ]
    }
   ],
   "source": [
    "HTT_position = []\n",
    "HTH_position = []\n",
    "\n",
    "e=1000          # number of experiments\n",
    "for n in range(0, e): \n",
    "    list = position_experiments()\n",
    "    HTT_position.append(list[0])\n",
    "    HTH_position.append(list[1])\n",
    "\n",
    "# print('The list of numbers of tosses until HTT :')\n",
    "# print(HTT_position)\n",
    "# print('The list of numbers of tosses until HTH :')\n",
    "# print(HTH_position)\n",
    "\n",
    "avg_htt = Average(HTT_position) \n",
    "avg_hth = Average(HTH_position) \n",
    "\n",
    "print('The average number of tosses until HTT : ' + str(avg_htt))\n",
    "print('The average number of tosses until HTH : ' + str(avg_hth))"
   ]
  },
  {
   "cell_type": "code",
   "execution_count": 119,
   "metadata": {},
   "outputs": [
    {
     "name": "stdout",
     "output_type": "stream",
     "text": [
      "The average number of tosses until HTT : 5.98\n",
      "The average number of tosses until HTH : 8.081\n"
     ]
    }
   ],
   "source": [
    "HTT_position = []\n",
    "HTH_position = []\n",
    "\n",
    "e=1000          # number of experiments\n",
    "for n in range(0, e): \n",
    "    list = position_experiments()\n",
    "    HTT_position.append(list[0])\n",
    "    HTH_position.append(list[1])\n",
    "\n",
    "# print('The list of numbers of tosses until HTT :')\n",
    "# print(HTT_position)\n",
    "# print('The list of numbers of tosses until HTH :')\n",
    "# print(HTH_position)\n",
    "\n",
    "avg_htt = Average(HTT_position) \n",
    "avg_hth = Average(HTH_position) \n",
    "\n",
    "print('The average number of tosses until HTT : ' + str(avg_htt))\n",
    "print('The average number of tosses until HTH : ' + str(avg_hth))"
   ]
  },
  {
   "cell_type": "markdown",
   "metadata": {},
   "source": [
    "# Report\n",
    "\n",
    "For this problem, I run 1000 experiments with 100 tosses each. Moreover, I also run this code 7 times. The result is as follows :\n",
    "\n",
    "First run :\n",
    "<br>\n",
    "The average number of tosses until HTT : 5.886\n",
    "<br>\n",
    "The average number of tosses until HTH : 8.063\n",
    "\n",
    "Second run :\n",
    "<br>\n",
    "The average number of tosses until HTT : 5.946\n",
    "<br>\n",
    "The average number of tosses until HTH : 8.118\n",
    "\n",
    "Third run :\n",
    "<br>\n",
    "The average number of tosses until HTT : 6.13\n",
    "<br>\n",
    "The average number of tosses until HTH : 8.195\n",
    "\n",
    "Fourth run :\n",
    "<br>\n",
    "The average number of tosses until HTT : 6.098\n",
    "<br>\n",
    "The average number of tosses until HTH : 7.869\n",
    "\n",
    "Fith run :\n",
    "<br>\n",
    "The average number of tosses until HTT : 6.3\n",
    "<br>\n",
    "The average number of tosses until HTH : 7.855\n",
    "\n",
    "Sixth run :\n",
    "<br>\n",
    "The average number of tosses until HTT : 6.046\n",
    "<br>\n",
    "The average number of tosses until HTH : 8.035\n",
    "\n",
    "Seventh run :\n",
    "<br>\n",
    "The average number of tosses until HTT : 5.98\n",
    "<br>\n",
    "The average number of tosses until HTH : 8.081\n",
    "\n",
    "## Conclusion\n",
    "It can be seen that the average number of tosses until HTH is larger than the average number of tosses until HTT, especially when we have a large number of experiments (converge)."
   ]
  },
  {
   "cell_type": "code",
   "execution_count": null,
   "metadata": {},
   "outputs": [],
   "source": []
  }
 ],
 "metadata": {
  "kernelspec": {
   "display_name": "Python 3",
   "language": "python",
   "name": "python3"
  },
  "language_info": {
   "codemirror_mode": {
    "name": "ipython",
    "version": 3
   },
   "file_extension": ".py",
   "mimetype": "text/x-python",
   "name": "python",
   "nbconvert_exporter": "python",
   "pygments_lexer": "ipython3",
   "version": "3.7.4"
  }
 },
 "nbformat": 4,
 "nbformat_minor": 2
}
