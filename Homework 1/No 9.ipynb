{
 "cells": [
  {
   "cell_type": "code",
   "execution_count": 138,
   "metadata": {},
   "outputs": [],
   "source": [
    "import numpy as np\n",
    "\n",
    "def coin_toss(p):     \n",
    "    result = np.random.binomial(1,p) \n",
    "    if result == 0:\n",
    "        experiment = 'T'\n",
    "    else :\n",
    "        experiment = 'H'\n",
    "    return experiment\n",
    "\n",
    "\n",
    "def position_experiments(): \n",
    "    p=0.5\n",
    "    n=1000       # number of tosses in one experiment\n",
    "    full_experiments = []\n",
    "\n",
    "    for i in range(0, n):    \n",
    "        full_experiments.append(coin_toss(p))\n",
    "        i+=1\n",
    "    \n",
    "    #print(full_experiments)\n",
    "    \n",
    "    htt, hth = 0,0\n",
    "    \n",
    "    for i in range(0, len(full_experiments)-2):\n",
    "        if full_experiments[i] == 'H' and full_experiments[i+1] == 'T' and full_experiments[i+2] == 'T' and htt == 0:\n",
    "            htt = i+1\n",
    "        elif full_experiments[i] == 'H' and full_experiments[i+1] == 'T' and full_experiments[i+2] == 'H' and hth == 0:\n",
    "            hth = i+1\n",
    "        \n",
    "        if htt != 0 and hth != 0 :\n",
    "            break\n",
    "        i+=1\n",
    "    \n",
    "    #print('HTT' + str(htt))\n",
    "    #print('HTH' + str(hth))\n",
    "    return [htt, hth]\n",
    "\n",
    "\n",
    "def Average(lst): \n",
    "    return sum(lst) / len(lst)"
   ]
  },
  {
   "cell_type": "code",
   "execution_count": 139,
   "metadata": {},
   "outputs": [
    {
     "name": "stdout",
     "output_type": "stream",
     "text": [
      "The list of numbers of tosses until HTT :\n",
      "[10, 30, 5, 7, 1, 5, 20, 14, 13, 4, 4, 7, 2, 1, 14, 9, 7, 5, 6, 3, 3, 5, 2, 1, 1, 7, 2, 10, 1, 1, 5, 6, 1, 18, 6, 12, 1, 19, 2, 7, 7, 8, 3, 5, 3, 5, 6, 20, 21, 3, 1, 4, 3, 1, 11, 4, 11, 3, 9, 5, 5, 6, 5, 3, 13, 2, 6, 16, 3, 5, 10, 7, 10, 1, 7, 10, 9, 1, 5, 3, 2, 5, 21, 4, 8, 2, 9, 2, 2, 3, 13, 10, 2, 1, 8, 3, 2, 4, 8, 3, 5, 3, 6, 8, 4, 6, 5, 4, 10, 3, 2, 4, 7, 3, 5, 1, 2, 3, 6, 7, 8, 1, 1, 9, 2, 2, 5, 4, 4, 3, 3, 8, 14, 4, 6, 5, 8, 3, 5, 4, 2, 13, 2, 6, 1, 4, 6, 3, 7, 2, 14, 1, 2, 18, 3, 2, 5, 5, 3, 10, 9, 2, 1, 6, 4, 9, 4, 4, 4, 4, 1, 4, 21, 12, 6, 4, 3, 6, 3, 2, 4, 9, 2, 3, 11, 7, 9, 12, 2, 6, 1, 3, 5, 2, 17, 13, 2, 4, 3, 5, 4, 4, 6, 1, 2, 8, 1, 7, 3, 8, 4, 6, 1, 2, 1, 1, 15, 6, 5, 16, 12, 9, 15, 11, 3, 1, 3, 17, 5, 3, 1, 11, 3, 1, 5, 1, 1, 4, 6, 5, 6, 14, 4, 3, 5, 5, 3, 3, 9, 5, 1, 6, 5, 3, 7, 5, 8, 12, 8, 4, 5, 12, 1, 5, 21, 2, 1, 11, 3, 18, 19, 7, 7, 3, 1, 10, 3, 1, 2, 2, 4, 2, 10, 9, 6, 12, 13, 2, 3, 7, 7, 1, 4, 13, 8, 3, 4, 7, 12, 1, 17, 2, 2, 5, 4, 10, 17, 2, 33, 2, 1, 2, 6, 6, 15, 5, 5, 2, 4, 6, 12, 3, 8, 2, 13, 8, 2, 5, 3, 20, 1, 2, 8, 6, 1, 3, 4, 2, 2, 11, 3, 1, 3, 3, 6, 5, 5, 12, 6, 15, 3, 6, 5, 11, 5, 10, 6, 12, 15, 10, 9, 15, 3, 3, 1, 3, 2, 7, 1, 8, 3, 8, 7, 7, 2, 8, 4, 5, 1, 1, 4, 9, 5, 2, 10, 5, 1, 1, 4, 12, 22, 4, 1, 4, 5, 7, 8, 13, 2, 6, 13, 2, 9, 7, 3, 1, 5, 6, 5, 1, 4, 15, 3, 3, 1, 19, 7, 8, 5, 2, 7, 2, 11, 2, 4, 7, 1, 3, 3, 7, 5, 6, 14, 3, 4, 3, 1, 10, 3, 2, 10, 3, 3, 3, 3, 6, 1, 4, 1, 4, 10, 3, 3, 3, 1, 9, 6, 5, 1, 8, 10, 2, 12, 7, 8, 1, 1, 2, 2, 23, 3, 7, 3, 5, 2, 3, 13, 8, 4, 7, 8, 2, 2, 3, 5, 6, 2, 1, 8, 9, 15, 8, 15, 10, 1, 4, 3, 2, 26, 4, 1, 13, 4, 2, 2, 10, 1, 1, 1, 10, 5, 5, 7, 6, 3, 6, 14, 11, 2, 4, 1, 8, 3, 4, 9, 28, 9, 5, 3, 1, 4, 9, 3, 7, 1, 8, 3, 5, 4, 2, 8, 3, 1, 14, 4, 5, 25, 10, 5, 8, 6, 1, 7, 7, 5, 6, 1, 7, 8, 4, 7, 20, 6, 5, 3, 2, 6, 3, 3, 4, 1, 7, 3, 3, 3, 13, 17, 7, 10, 7, 1, 3, 4, 2, 10, 12, 2, 1, 9, 3, 1, 7, 1, 1, 1, 11, 6, 3, 19, 3, 14, 8, 9, 5, 1, 6, 1, 3, 1, 5, 6, 7, 1, 27, 19, 3, 3, 21, 1, 1, 1, 5, 1, 10, 10, 3, 6, 6, 7, 2, 3, 4, 5, 6, 4, 30, 2, 1, 5, 7, 6, 3, 2, 5, 6, 1, 1, 9, 3, 3, 14, 12, 7, 9, 2, 2, 3, 5, 4, 13, 4, 15, 9, 23, 4, 7, 3, 3, 10, 8, 1, 10, 4, 7, 12, 1, 4, 11, 2, 4, 5, 4, 6, 4, 5, 5, 4, 9, 3, 4, 5, 3, 7, 9, 2, 2, 5, 6, 10, 2, 11, 6, 1, 8, 5, 4, 7, 6, 6, 6, 3, 1, 13, 2, 2, 4, 7, 2, 12, 3, 3, 7, 2, 6, 3, 2, 1, 4, 13, 3, 12, 13, 6, 4, 3, 8, 2, 12, 7, 7, 1, 6, 4, 8, 8, 8, 15, 2, 4, 3, 8, 5, 1, 6, 6, 13, 7, 8, 5, 10, 5, 4, 9, 2, 8, 8, 5, 2, 1, 4, 6, 1, 20, 3, 5, 6, 5, 1, 1, 2, 9, 7, 5, 5, 7, 2, 10, 2, 5, 7, 14, 3, 3, 5, 1, 13, 6, 11, 6, 3, 5, 6, 4, 3, 15, 5, 4, 2, 2, 9, 6, 6, 5, 4, 5, 2, 7, 2, 12, 5, 1, 8, 5, 25, 2, 8, 6, 2, 5, 7, 4, 2, 3, 1, 1, 1, 5, 8, 2, 4, 13, 2, 3, 9, 3, 3, 4, 3, 5, 14, 7, 7, 4, 4, 4, 4, 4, 3, 20, 22, 2, 1, 7, 7, 5, 1, 3, 14, 5, 3, 13, 1, 6, 6, 4, 1, 39, 9, 1, 6, 2, 4, 6, 15, 1, 1, 1, 9, 3, 9, 1, 10, 4, 6, 6, 3, 2, 2, 1, 2, 4, 19, 3, 14, 5, 3, 3, 3, 2, 2, 1, 11, 8, 2, 10, 17, 23, 3, 3, 5, 7, 11, 10, 8, 10, 5, 5, 9, 8, 4, 1, 1, 7, 10, 1, 25, 2, 9, 2, 15, 9, 11, 5, 3, 9, 2, 4, 2, 3, 3, 9, 1, 6, 6, 9, 7, 5, 5, 2, 5, 12, 4, 8, 1, 11, 5, 9, 1, 15, 1, 6, 13, 11, 2, 6, 11, 5, 3, 7, 7, 11, 3, 8, 3, 2, 2, 3, 9, 2, 2, 8, 3, 6, 4, 4, 3, 10, 12, 9, 11]\n",
      "\n",
      "The list of numbers of tosses until HTH :\n",
      "[6, 5, 25, 47, 4, 22, 6, 1, 1, 2, 15, 1, 6, 4, 8, 6, 14, 21, 2, 1, 7, 2, 10, 19, 13, 3, 6, 2, 7, 4, 2, 23, 17, 2, 18, 6, 4, 5, 6, 5, 5, 2, 1, 1, 34, 9, 17, 1, 4, 35, 5, 2, 13, 21, 1, 24, 2, 1, 5, 13, 17, 1, 1, 9, 5, 9, 13, 2, 1, 2, 7, 11, 20, 7, 1, 17, 2, 4, 2, 15, 9, 2, 3, 11, 26, 9, 2, 5, 69, 7, 2, 3, 5, 8, 5, 13, 5, 20, 1, 15, 3, 13, 11, 23, 10, 20, 3, 2, 3, 8, 8, 10, 1, 6, 3, 7, 6, 1, 10, 3, 2, 21, 22, 1, 5, 5, 2, 2, 9, 13, 13, 1, 5, 1, 9, 2, 2, 13, 3, 25, 5, 3, 6, 2, 27, 15, 11, 1, 23, 21, 3, 7, 11, 1, 1, 5, 3, 10, 6, 5, 4, 5, 6, 1, 10, 5, 2, 9, 2, 25, 4, 14, 1, 4, 30, 1, 1, 9, 12, 6, 2, 6, 9, 11, 24, 3, 5, 3, 10, 1, 10, 17, 1, 26, 3, 3, 9, 21, 1, 3, 2, 2, 4, 6, 6, 6, 12, 5, 8, 3, 2, 11, 4, 7, 5, 12, 1, 3, 17, 3, 5, 6, 1, 3, 1, 26, 8, 5, 11, 6, 11, 5, 7, 7, 8, 4, 4, 12, 12, 1, 1, 5, 2, 1, 2, 1, 9, 11, 1, 18, 4, 2, 18, 9, 1, 24, 27, 3, 1, 2, 3, 2, 6, 12, 6, 11, 5, 7, 6, 5, 4, 2, 1, 9, 14, 1, 12, 7, 13, 13, 7, 6, 2, 3, 11, 6, 4, 9, 28, 4, 10, 20, 2, 6, 1, 1, 10, 3, 3, 4, 12, 8, 7, 3, 24, 15, 3, 6, 2, 9, 13, 10, 2, 2, 3, 10, 1, 8, 1, 2, 8, 1, 3, 5, 9, 6, 11, 15, 28, 5, 18, 11, 3, 9, 7, 7, 2, 6, 12, 3, 8, 4, 1, 7, 1, 3, 1, 1, 4, 3, 13, 4, 3, 9, 10, 1, 14, 2, 7, 4, 4, 6, 6, 1, 11, 24, 14, 25, 6, 2, 1, 5, 18, 10, 17, 19, 26, 2, 5, 5, 17, 5, 18, 6, 3, 3, 5, 6, 7, 2, 6, 2, 13, 2, 10, 1, 2, 1, 6, 2, 4, 6, 1, 5, 14, 16, 2, 4, 10, 8, 9, 4, 1, 1, 12, 1, 24, 4, 3, 13, 2, 5, 3, 9, 2, 17, 19, 7, 1, 2, 15, 10, 5, 1, 15, 12, 9, 13, 1, 6, 1, 19, 19, 1, 7, 2, 18, 28, 13, 9, 8, 6, 11, 8, 6, 3, 4, 2, 4, 2, 5, 10, 8, 3, 3, 7, 12, 24, 10, 2, 14, 2, 12, 1, 10, 8, 4, 2, 31, 5, 3, 13, 5, 7, 3, 2, 43, 9, 5, 2, 2, 1, 5, 4, 7, 2, 6, 20, 8, 2, 22, 2, 18, 13, 9, 2, 8, 9, 11, 8, 1, 8, 4, 4, 1, 3, 2, 2, 9, 14, 21, 2, 1, 15, 6, 3, 3, 8, 7, 7, 2, 5, 16, 13, 17, 4, 8, 13, 8, 15, 3, 10, 9, 5, 2, 3, 5, 1, 1, 3, 4, 4, 2, 17, 3, 4, 6, 3, 1, 7, 3, 6, 20, 1, 15, 10, 3, 1, 1, 1, 4, 3, 1, 7, 1, 3, 4, 3, 3, 1, 10, 6, 1, 5, 2, 5, 8, 6, 3, 28, 10, 4, 5, 7, 8, 4, 1, 1, 4, 10, 2, 5, 5, 13, 9, 2, 9, 8, 15, 2, 4, 4, 5, 2, 1, 17, 9, 9, 14, 15, 26, 3, 5, 3, 1, 11, 3, 2, 3, 9, 7, 9, 21, 4, 17, 8, 18, 7, 1, 10, 9, 15, 7, 1, 4, 4, 7, 5, 22, 1, 3, 2, 16, 2, 7, 13, 1, 2, 11, 2, 9, 2, 1, 3, 9, 3, 1, 1, 3, 2, 6, 1, 1, 3, 8, 4, 23, 5, 23, 11, 1, 13, 21, 8, 14, 1, 1, 5, 1, 7, 3, 12, 3, 7, 9, 6, 2, 1, 6, 5, 4, 3, 8, 3, 2, 2, 4, 12, 1, 4, 10, 8, 11, 8, 11, 2, 11, 7, 6, 6, 10, 1, 9, 2, 7, 8, 9, 11, 2, 6, 4, 2, 19, 12, 11, 3, 22, 1, 4, 2, 6, 4, 2, 3, 3, 4, 2, 7, 8, 9, 4, 12, 5, 17, 2, 4, 2, 3, 1, 2, 2, 8, 2, 9, 4, 2, 2, 15, 6, 13, 2, 5, 2, 7, 2, 4, 8, 7, 15, 5, 1, 21, 9, 3, 13, 6, 2, 37, 9, 12, 4, 1, 7, 3, 4, 10, 1, 5, 3, 6, 3, 4, 13, 10, 6, 2, 2, 11, 18, 3, 1, 2, 9, 1, 1, 11, 3, 7, 4, 1, 6, 3, 20, 2, 23, 6, 12, 16, 19, 2, 2, 6, 26, 5, 11, 9, 17, 1, 16, 2, 5, 19, 6, 1, 6, 8, 2, 9, 3, 8, 12, 4, 32, 7, 2, 17, 11, 10, 2, 1, 5, 6, 3, 5, 3, 10, 1, 3, 1, 6, 5, 4, 3, 3, 20, 25, 1, 1, 7, 2, 9, 1, 15, 6, 14, 10, 16, 2, 16, 5, 4, 14, 2, 23, 13, 1, 10, 6, 4, 12, 10, 1, 13, 4, 2, 13, 21, 18, 9, 5, 21, 3, 4, 6, 3, 1, 3, 1, 21, 1, 2, 3, 5, 2, 7, 1, 10, 5, 2, 2, 5, 6, 1, 3, 6, 4, 6, 6, 6, 4, 2, 2, 20, 8, 2, 7, 8, 7, 15, 10, 3, 19, 2, 3, 2, 3, 2, 11, 6, 13, 5, 2, 5, 5, 22, 2, 4, 12, 2, 17, 12, 8, 5, 7, 4, 1, 3, 1, 2, 15, 1, 7, 1, 1, 13, 12, 1, 1, 24, 13, 3, 19, 2, 9, 9, 1, 5, 8, 3, 3]\n",
      "\n",
      "The average number of tosses until HTT : 5.962\n",
      "The average number of tosses until HTH : 7.335\n"
     ]
    }
   ],
   "source": [
    "HTT_position = []\n",
    "HTH_position = []\n",
    "\n",
    "e=1000          # number of experiments\n",
    "for n in range(0, e): \n",
    "    list = position_experiments()\n",
    "    HTT_position.append(list[0])\n",
    "    HTH_position.append(list[1])\n",
    "\n",
    "print('The list of numbers of tosses until HTT :')\n",
    "print(HTT_position)\n",
    "print()\n",
    "print('The list of numbers of tosses until HTH :')\n",
    "print(HTH_position)\n",
    "\n",
    "avg_htt = Average(HTT_position) \n",
    "avg_hth = Average(HTH_position) \n",
    "\n",
    "print()\n",
    "print('The average number of tosses until HTT : ' + str(avg_htt))\n",
    "print('The average number of tosses until HTH : ' + str(avg_hth))"
   ]
  },
  {
   "cell_type": "code",
   "execution_count": 140,
   "metadata": {},
   "outputs": [
    {
     "name": "stdout",
     "output_type": "stream",
     "text": [
      "The average number of tosses until HTT : 6.053\n",
      "The average number of tosses until HTH : 8.226\n"
     ]
    }
   ],
   "source": [
    "HTT_position = []\n",
    "HTH_position = []\n",
    "\n",
    "e=1000          # number of experiments\n",
    "for n in range(0, e): \n",
    "    list = position_experiments()\n",
    "    HTT_position.append(list[0])\n",
    "    HTH_position.append(list[1])\n",
    "\n",
    "# print('The list of numbers of tosses until HTT :')\n",
    "# print(HTT_position)\n",
    "# print('The list of numbers of tosses until HTH :')\n",
    "# print(HTH_position)\n",
    "\n",
    "avg_htt = Average(HTT_position) \n",
    "avg_hth = Average(HTH_position) \n",
    "\n",
    "print('The average number of tosses until HTT : ' + str(avg_htt))\n",
    "print('The average number of tosses until HTH : ' + str(avg_hth))"
   ]
  },
  {
   "cell_type": "code",
   "execution_count": 141,
   "metadata": {},
   "outputs": [
    {
     "name": "stdout",
     "output_type": "stream",
     "text": [
      "The average number of tosses until HTT : 5.906\n",
      "The average number of tosses until HTH : 8.431\n"
     ]
    }
   ],
   "source": [
    "HTT_position = []\n",
    "HTH_position = []\n",
    "\n",
    "e=1000          # number of experiments\n",
    "for n in range(0, e): \n",
    "    list = position_experiments()\n",
    "    HTT_position.append(list[0])\n",
    "    HTH_position.append(list[1])\n",
    "\n",
    "# print('The list of numbers of tosses until HTT :')\n",
    "# print(HTT_position)\n",
    "# print('The list of numbers of tosses until HTH :')\n",
    "# print(HTH_position)\n",
    "\n",
    "avg_htt = Average(HTT_position) \n",
    "avg_hth = Average(HTH_position) \n",
    "\n",
    "print('The average number of tosses until HTT : ' + str(avg_htt))\n",
    "print('The average number of tosses until HTH : ' + str(avg_hth))"
   ]
  },
  {
   "cell_type": "code",
   "execution_count": 142,
   "metadata": {},
   "outputs": [
    {
     "name": "stdout",
     "output_type": "stream",
     "text": [
      "The average number of tosses until HTT : 6.196\n",
      "The average number of tosses until HTH : 7.819\n"
     ]
    }
   ],
   "source": [
    "HTT_position = []\n",
    "HTH_position = []\n",
    "\n",
    "e=1000          # number of experiments\n",
    "for n in range(0, e): \n",
    "    list = position_experiments()\n",
    "    HTT_position.append(list[0])\n",
    "    HTH_position.append(list[1])\n",
    "\n",
    "# print('The list of numbers of tosses until HTT :')\n",
    "# print(HTT_position)\n",
    "# print('The list of numbers of tosses until HTH :')\n",
    "# print(HTH_position)\n",
    "\n",
    "avg_htt = Average(HTT_position) \n",
    "avg_hth = Average(HTH_position) \n",
    "\n",
    "print('The average number of tosses until HTT : ' + str(avg_htt))\n",
    "print('The average number of tosses until HTH : ' + str(avg_hth))"
   ]
  },
  {
   "cell_type": "code",
   "execution_count": 143,
   "metadata": {},
   "outputs": [
    {
     "name": "stdout",
     "output_type": "stream",
     "text": [
      "The average number of tosses until HTT : 5.976\n",
      "The average number of tosses until HTH : 7.786\n"
     ]
    }
   ],
   "source": [
    "HTT_position = []\n",
    "HTH_position = []\n",
    "\n",
    "e=1000          # number of experiments\n",
    "for n in range(0, e): \n",
    "    list = position_experiments()\n",
    "    HTT_position.append(list[0])\n",
    "    HTH_position.append(list[1])\n",
    "\n",
    "# print('The list of numbers of tosses until HTT :')\n",
    "# print(HTT_position)\n",
    "# print('The list of numbers of tosses until HTH :')\n",
    "# print(HTH_position)\n",
    "\n",
    "avg_htt = Average(HTT_position) \n",
    "avg_hth = Average(HTH_position) \n",
    "\n",
    "print('The average number of tosses until HTT : ' + str(avg_htt))\n",
    "print('The average number of tosses until HTH : ' + str(avg_hth))"
   ]
  },
  {
   "cell_type": "code",
   "execution_count": 144,
   "metadata": {},
   "outputs": [
    {
     "name": "stdout",
     "output_type": "stream",
     "text": [
      "The average number of tosses until HTT : 5.828\n",
      "The average number of tosses until HTH : 8.349\n"
     ]
    }
   ],
   "source": [
    "HTT_position = []\n",
    "HTH_position = []\n",
    "\n",
    "e=1000          # number of experiments\n",
    "for n in range(0, e): \n",
    "    list = position_experiments()\n",
    "    HTT_position.append(list[0])\n",
    "    HTH_position.append(list[1])\n",
    "\n",
    "# print('The list of numbers of tosses until HTT :')\n",
    "# print(HTT_position)\n",
    "# print('The list of numbers of tosses until HTH :')\n",
    "# print(HTH_position)\n",
    "\n",
    "avg_htt = Average(HTT_position) \n",
    "avg_hth = Average(HTH_position) \n",
    "\n",
    "print('The average number of tosses until HTT : ' + str(avg_htt))\n",
    "print('The average number of tosses until HTH : ' + str(avg_hth))"
   ]
  },
  {
   "cell_type": "code",
   "execution_count": 145,
   "metadata": {},
   "outputs": [
    {
     "name": "stdout",
     "output_type": "stream",
     "text": [
      "The average number of tosses until HTT : 5.909\n",
      "The average number of tosses until HTH : 8.454\n"
     ]
    }
   ],
   "source": [
    "HTT_position = []\n",
    "HTH_position = []\n",
    "\n",
    "e=1000          # number of experiments\n",
    "for n in range(0, e): \n",
    "    list = position_experiments()\n",
    "    HTT_position.append(list[0])\n",
    "    HTH_position.append(list[1])\n",
    "\n",
    "# print('The list of numbers of tosses until HTT :')\n",
    "# print(HTT_position)\n",
    "# print('The list of numbers of tosses until HTH :')\n",
    "# print(HTH_position)\n",
    "\n",
    "avg_htt = Average(HTT_position) \n",
    "avg_hth = Average(HTH_position) \n",
    "\n",
    "print('The average number of tosses until HTT : ' + str(avg_htt))\n",
    "print('The average number of tosses until HTH : ' + str(avg_hth))"
   ]
  },
  {
   "cell_type": "markdown",
   "metadata": {},
   "source": [
    "# Report\n",
    "\n",
    "For this problem, I run 1000 experiments with 1000 tosses each. Moreover, I also run this code 7 times. The result is as follows :\n",
    "\n",
    "First run :\n",
    "<br>\n",
    "The average number of tosses until HTT : 5.962\n",
    "<br>\n",
    "The average number of tosses until HTH : 7.335\n",
    "\n",
    "Second run :\n",
    "<br>\n",
    "The average number of tosses until HTT : 6.053\n",
    "<br>\n",
    "The average number of tosses until HTH : 8.226\n",
    "\n",
    "Third run :\n",
    "<br>\n",
    "The average number of tosses until HTT : 5.906\n",
    "<br>\n",
    "The average number of tosses until HTH : 8.431\n",
    "\n",
    "Fourth run :\n",
    "<br>\n",
    "The average number of tosses until HTT : 6.196\n",
    "<br>\n",
    "The average number of tosses until HTH : 7.819\n",
    "\n",
    "Fith run :\n",
    "<br>\n",
    "The average number of tosses until HTT : 5.976\n",
    "<br>\n",
    "The average number of tosses until HTH : 7.786\n",
    "\n",
    "Sixth run :\n",
    "<br>\n",
    "The average number of tosses until HTT : 5.828\n",
    "<br>\n",
    "The average number of tosses until HTH : 8.349\n",
    "\n",
    "Seventh run :\n",
    "<br>\n",
    "The average number of tosses until HTT : 5.909\n",
    "<br>\n",
    "The average number of tosses until HTH : 8.454\n",
    "\n",
    "## Conclusion\n",
    "It can be seen that the average number of tosses until HTH is larger than the average number of tosses until HTT, especially when we have a large number of experiments (converge)."
   ]
  },
  {
   "cell_type": "code",
   "execution_count": null,
   "metadata": {},
   "outputs": [],
   "source": []
  }
 ],
 "metadata": {
  "kernelspec": {
   "display_name": "Python 3",
   "language": "python",
   "name": "python3"
  },
  "language_info": {
   "codemirror_mode": {
    "name": "ipython",
    "version": 3
   },
   "file_extension": ".py",
   "mimetype": "text/x-python",
   "name": "python",
   "nbconvert_exporter": "python",
   "pygments_lexer": "ipython3",
   "version": "3.7.4"
  }
 },
 "nbformat": 4,
 "nbformat_minor": 2
}
