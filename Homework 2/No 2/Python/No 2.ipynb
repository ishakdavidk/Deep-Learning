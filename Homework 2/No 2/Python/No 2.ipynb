{
 "cells": [
  {
   "cell_type": "code",
   "execution_count": 7,
   "metadata": {},
   "outputs": [
    {
     "name": "stdout",
     "output_type": "stream",
     "text": [
      "Sale Price : \n",
      "['3620', '257', '900', '2246', '449', '145', '13', '630', '1854', '898', '765', '5156', '3375', '2681', '1258', '233', '38', '547', '70', '264', '211', '330', '1968', '1785', '1705', '4818', '513', '4374', '12634', '3485', '4213']\n",
      "\n",
      "\n",
      "Explanatory Variables : \n",
      "[['4406' '6782' '204' '1100' '160' '1' '1' '71.6']\n",
      " ['1389' '2133' '71' '450' '100' '1' '2' '33.8']\n",
      " ['1523' '1588' '103' '900' '165' '0' '1' '64.8']\n",
      " ['1636' '1493' '113' '500' '120' '1' '0' '70.0']\n",
      " ['428' '511' '51' '200' '30' '1' '1' '29.5']\n",
      " ['474' '672' '15' '150' '50' '1' '0' '66.9']\n",
      " ['224' '279' '46' '100' '35' '1' '1' '23.8']\n",
      " ['271' '370' '18' '325' '85' '0' '0' '88.3']\n",
      " ['2692' '3882' '246' '1450' '300' '0' '2' '68.5']\n",
      " ['2272' '3395' '349' '650' '135' '1' '2' '62.5']\n",
      " ['1091' '1568' '104' '450' '90' '1' '0' '47.1']\n",
      " ['971' '1520' '162' '825' '250' '0' '0' '62.5']\n",
      " ['2656' '3765' '204' '1400' '212' '1' '0' '62.7']\n",
      " ['1603' '2424' '283' '1500' '330' '1' '2' '23.1']\n",
      " ['1439' '1886' '100' '600' '120' '1' '2' '61.5']\n",
      " ['244' '307' '54' '150' '50' '1' '0' '35.3']\n",
      " ['201' '247' '32' '70' '35' '1' '1' '28.7']\n",
      " ['745' '1061' '61' '150' '25' '1' '2' '40.1']\n",
      " ['213' '286' '23' '200' '30' '1' '1' '65.4']\n",
      " ['85' '136' '19' '60' '30' '1' '0' '34.8']\n",
      " ['554' '758' '60' '275' '65' '1' '0' '40.7']\n",
      " ['783' '964' '86' '300' '70' '1' '1' '37.7']\n",
      " ['7800' '6457' '476' '600' '120' '1' '1' '64.9']\n",
      " ['1218' '1954' '283' '550' '100' '0' '1' '59.5']\n",
      " ['1724' '2440' '112' '600' '150' '1' '0' '54.3']\n",
      " ['4308' '5574' '385' '1200' '225' '1' '0' '74.8']\n",
      " ['3863' '2811' '142' '450' '90' '1' '2' '36.0']\n",
      " ['2078' '2961' '221' '900' '225' '1' '1' '40.9']\n",
      " ['8472' '13733' '620' '3500' '750' '0' '0' '75.4']\n",
      " ['1389' '2695' '1553' '1000' '200' '0' '2' '65.9']\n",
      " ['1327' '2039' '194' '600' '110' '1' '2' '51.2']]\n"
     ]
    }
   ],
   "source": [
    "import matplotlib.pyplot as plt\n",
    "import numpy as np\n",
    "from sklearn import linear_model\n",
    "from sklearn.metrics import mean_squared_error, r2_score\n",
    "\n",
    "lin_dataset = [i.strip().split() for i in open(\"D:\\\\David\\\\Tasks\\\\Deep Learning\\\\Homework\\\\HW2\\\\No 2\\\\Python\\\\tvsales.dat\").readlines()]\n",
    "\n",
    "Y = [i[1] for i in lin_dataset]\n",
    "print('Sale Price : ')\n",
    "print(Y)\n",
    "\n",
    "X = np.delete(lin_dataset, 0, 1)\n",
    "X = np.delete(X, 0, 1)\n",
    "print('\\n')\n",
    "print('Explanatory Variables : ')\n",
    "print(X)"
   ]
  },
  {
   "cell_type": "code",
   "execution_count": 8,
   "metadata": {},
   "outputs": [
    {
     "name": "stdout",
     "output_type": "stream",
     "text": [
      "Coefficient of determination : 0.8740422216521202\n"
     ]
    }
   ],
   "source": [
    "regr = linear_model.LinearRegression()\n",
    "\n",
    "X = np.array(X, dtype=np.float64)\n",
    "Y = np.array(Y, dtype=np.float64).reshape(-1,1)\n",
    "\n",
    "regr.fit(X, Y)\n",
    "print('Coefficient of determination :', str(regr.score(X, Y)))"
   ]
  },
  {
   "cell_type": "code",
   "execution_count": 9,
   "metadata": {},
   "outputs": [
    {
     "name": "stdout",
     "output_type": "stream",
     "text": [
      "Intercept :  -798.8923003024026\n",
      "Slope :  [  -0.44778243    0.66238667    1.06932447   -1.68859949   17.03056976\n",
      "  408.35610621 -329.79196578    8.47063034]\n",
      "\n",
      "Equation : \n",
      "Y = -798.8923 + -0.4478 X1 + 0.6624 X2 + 1.0693 X3 + -1.6886 X4 + 17.0306 X5 + 408.3561 X6 + -329.792 X7 + 8.4706 X8\n"
     ]
    }
   ],
   "source": [
    "m = regr.coef_\n",
    "b = regr.intercept_\n",
    "\n",
    "print('Intercept : ', b[0])\n",
    "print('Slope : ', m[0])\n",
    "\n",
    "b = np.round(b,4)\n",
    "m = np.round(m,4)\n",
    "print('\\nEquation : \\nY = ' + str(b[0]) + ' + ' + str(m[0][0]) + ' X1 + ' + str(m[0][1]) + ' X2 + ' \n",
    "      + str(m[0][2]) + ' X3 + ' + str(m[0][3]) + ' X4 + ' \n",
    "      + str(m[0][4]) + ' X5 + ' + str(m[0][5]) + ' X6 + ' \n",
    "      + str(m[0][6]) + ' X7 + ' + str(m[0][7]) + ' X8')"
   ]
  },
  {
   "cell_type": "code",
   "execution_count": null,
   "metadata": {},
   "outputs": [],
   "source": []
  }
 ],
 "metadata": {
  "kernelspec": {
   "display_name": "Python 3",
   "language": "python",
   "name": "python3"
  },
  "language_info": {
   "codemirror_mode": {
    "name": "ipython",
    "version": 3
   },
   "file_extension": ".py",
   "mimetype": "text/x-python",
   "name": "python",
   "nbconvert_exporter": "python",
   "pygments_lexer": "ipython3",
   "version": "3.7.4"
  }
 },
 "nbformat": 4,
 "nbformat_minor": 2
}
