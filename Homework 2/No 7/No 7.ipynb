{
 "cells": [
  {
   "cell_type": "code",
   "execution_count": 4,
   "metadata": {},
   "outputs": [
    {
     "name": "stdout",
     "output_type": "stream",
     "text": [
      "Y : \n",
      "[4.78749 4.94164 4.55388 4.82831 4.38203 4.31749 4.17439 3.91202 4.00733\n",
      " 3.68888 3.68888 3.63759 3.46574 3.58352 3.21888 3.21888 2.99573 3.17805\n",
      " 2.94444 3.21888]\n",
      "\n",
      "\n",
      "X's : \n",
      "[[2.30259 2.3979 ]\n",
      " [2.30259 2.07944]\n",
      " [2.99573 3.98898]\n",
      " [2.99573 3.21888]\n",
      " [3.68888 4.60517]\n",
      " [3.68888 4.38203]\n",
      " [4.38203 5.39363]\n",
      " [4.38203 5.01064]\n",
      " [5.07517 6.01616]\n",
      " [5.07517 6.21461]\n",
      " [5.76832 6.49224]\n",
      " [5.76832 6.39693]\n",
      " [6.46147 6.69703]\n",
      " [6.46147 6.62007]\n",
      " [7.15462 6.79122]\n",
      " [7.15462 6.68461]\n",
      " [7.84776 6.8977 ]\n",
      " [7.84776 6.80239]\n",
      " [8.54091 7.05186]\n",
      " [8.54091 6.90776]]\n"
     ]
    }
   ],
   "source": [
    "import numpy as np\n",
    "\n",
    "lin_dataset = [i.strip().split() for i in open(\"D:\\\\David\\\\Tasks\\\\Deep Learning\\\\Homework\\\\HW2\\\\No 7\\\\manuf_learn.dat\").readlines()]\n",
    "\n",
    "Y = [i[5] for i in lin_dataset]\n",
    "Y = np.array(Y, dtype=np.float64)\n",
    "print('Y : ')\n",
    "print(Y)\n",
    "\n",
    "X = lin_dataset\n",
    "for i in range(6):\n",
    "    X = np.delete(X, 0, 1)\n",
    "X = np.array(X, dtype=np.float64)\n",
    "print('\\n')\n",
    "print('X\\'s : ')\n",
    "print(X)"
   ]
  },
  {
   "cell_type": "code",
   "execution_count": 5,
   "metadata": {},
   "outputs": [
    {
     "name": "stdout",
     "output_type": "stream",
     "text": [
      "Tetha = [ 5.70237064 -0.20924607 -0.13207296]\n",
      "\n",
      "Intercept :  5.702370638761927\n",
      "Slope :  -0.20924606814989133     -0.13207295797528928\n",
      "\n",
      "Equation =  5.7024  +  -0.2092  X1 +  -0.1321  X2\n"
     ]
    }
   ],
   "source": [
    "X_1 = np.insert(X, 0, 1, 1)\n",
    "\n",
    "x_x = np.dot(X_1.transpose(),X_1)\n",
    "x_y = np.dot(X_1.transpose(),Y)\n",
    "\n",
    "tetha = np.dot(np.linalg.inv(x_x), x_y)\n",
    "\n",
    "print('Tetha = ' + str(tetha))\n",
    "\n",
    "print('\\nIntercept : ', tetha[0])\n",
    "print('Slope : ', tetha[1], '   ', tetha[2])\n",
    "\n",
    "tetha = np.round(tetha,4)\n",
    "print('\\nEquation = ', tetha[0], ' + ', tetha[1], ' X1 + ', tetha[2], ' X2')"
   ]
  },
  {
   "cell_type": "code",
   "execution_count": null,
   "metadata": {},
   "outputs": [],
   "source": []
  }
 ],
 "metadata": {
  "kernelspec": {
   "display_name": "Python 3",
   "language": "python",
   "name": "python3"
  },
  "language_info": {
   "codemirror_mode": {
    "name": "ipython",
    "version": 3
   },
   "file_extension": ".py",
   "mimetype": "text/x-python",
   "name": "python",
   "nbconvert_exporter": "python",
   "pygments_lexer": "ipython3",
   "version": "3.7.4"
  }
 },
 "nbformat": 4,
 "nbformat_minor": 2
}
